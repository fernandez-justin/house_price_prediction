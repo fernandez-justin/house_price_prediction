{
 "cells": [
  {
   "cell_type": "code",
   "execution_count": 16,
   "metadata": {},
   "outputs": [],
   "source": [
    "import pandas as pd\n",
    "import pickle\n",
    "import numpy as np\n",
    "from sklearn import metrics\n",
    "from sklearn.preprocessing import PolynomialFeatures\n",
    "from sklearn.preprocessing import StandardScaler\n",
    "from sklearn.linear_model import LinearRegression\n",
    "\n",
    "pd.set_option('display.max_columns', 300)"
   ]
  },
  {
   "cell_type": "markdown",
   "metadata": {},
   "source": [
    "## Step 1: Read in hold out data, scalers, and best model"
   ]
  },
  {
   "cell_type": "code",
   "execution_count": 17,
   "metadata": {},
   "outputs": [],
   "source": [
    "df = pd.read_csv('kc_house_data_test_features.csv', index_col=0)"
   ]
  },
  {
   "cell_type": "code",
   "execution_count": 18,
   "metadata": {},
   "outputs": [],
   "source": [
    "final_scaler = pickle.load(open('scaler.pickle','rb'))\n",
    "final_model = pickle.load(open('model.pickle','rb'))"
   ]
  },
  {
   "cell_type": "markdown",
   "metadata": {},
   "source": [
    "## Step 2: Feature Engineering for holdout set"
   ]
  },
  {
   "cell_type": "markdown",
   "metadata": {},
   "source": [
    "Remember we have to perform the same transformations on our holdout data (feature engineering, extreme values, and scaling) that we performed on the original data."
   ]
  },
  {
   "cell_type": "markdown",
   "metadata": {},
   "source": [
    "### Generating Features"
   ]
  },
  {
   "cell_type": "code",
   "execution_count": 19,
   "metadata": {},
   "outputs": [],
   "source": [
    "# FEATURE: MONTH SOLD\n",
    "# converting date to a real datetime\n",
    "df.date = pd.to_datetime(df['date'])\n",
    "# extracting just the month\n",
    "df['month_sold'] = df.date.dt.month\n",
    "\n",
    "# FEATURE: YEAR SINCE BUILD/RENO\n",
    "# using np.select to find the years since it was built or renovated\n",
    "# if it was renovated\n",
    "conditions = [\n",
    "    df['yr_renovated'] != 0,\n",
    "]\n",
    "# set the years since build to 2020 - that year to get the # of years\n",
    "# the data stops at 2015 but all of these will be changed so the time since does not matter\n",
    "choices = [\n",
    "    2020-df['yr_renovated']\n",
    "]\n",
    "# if not renovated defaults to the year it was built\n",
    "df['yr_since_build'] = np.select(conditions,choices,default=(2020-df['yr_built']))\n",
    "\n",
    "# FEATURE: IS MULTIPLE FLOORS\n",
    "# using lambda to see if floors is greater than 1\n",
    "df['is_multi_floor'] = df['floors'].apply(lambda x: 1 if x > 1 else 0)\n",
    "\n",
    "# FEATURE: HAS BASEMENT\n",
    "# using lambda to see if there is a square footage for the beasement\n",
    "df['has_basement'] = df['sqft_basement'].apply(lambda x: 1 if x>0 else 0)"
   ]
  },
  {
   "cell_type": "code",
   "execution_count": 20,
   "metadata": {},
   "outputs": [],
   "source": [
    "features = [\n",
    "    'bedrooms',\n",
    "    'bathrooms',\n",
    "    'sqft_living',\n",
    "    'sqft_lot',\n",
    "    'floors',\n",
    "    'waterfront',\n",
    "    'view',\n",
    "    'condition',\n",
    "    'grade',\n",
    "    'sqft_above',\n",
    "    'sqft_basement',\n",
    "    'yr_built',\n",
    "    'yr_renovated',\n",
    "    'sqft_living15',\n",
    "    'sqft_lot15',\n",
    "    'month_sold',\n",
    "    'yr_since_build',\n",
    "    'is_multi_floor',\n",
    "    'has_basement'\n",
    "]\n",
    "df_features = df[features]"
   ]
  },
  {
   "cell_type": "markdown",
   "metadata": {},
   "source": [
    "## Generating Polynomials"
   ]
  },
  {
   "cell_type": "code",
   "execution_count": 21,
   "metadata": {},
   "outputs": [],
   "source": [
    "# instantiating the object\n",
    "poly2 = PolynomialFeatures(degree=2, include_bias=False)\n",
    "# transforming my features\n",
    "poly2_data = poly2.fit_transform(df_features)\n",
    "# creating the new data frame\n",
    "poly2_cols = poly2.get_feature_names(df_features.columns)\n",
    "df_poly2 = pd.DataFrame(poly2_data,columns = poly2_cols)"
   ]
  },
  {
   "cell_type": "markdown",
   "metadata": {},
   "source": [
    "## Feature Selection"
   ]
  },
  {
   "cell_type": "code",
   "execution_count": 29,
   "metadata": {},
   "outputs": [],
   "source": [
    "selected_features = ['bedrooms',\n",
    " 'bathrooms',\n",
    " 'sqft_living',\n",
    " 'floors',\n",
    " 'grade',\n",
    " 'sqft_above',\n",
    " 'sqft_basement',\n",
    " 'yr_built',\n",
    " 'sqft_living15',\n",
    " 'sqft_lot15',\n",
    " 'yr_since_build',\n",
    " 'is_multi_floor',\n",
    " 'bedrooms^2',\n",
    " 'bedrooms bathrooms',\n",
    " 'bedrooms sqft_living',\n",
    " 'bedrooms sqft_lot',\n",
    " 'bedrooms floors',\n",
    " 'bedrooms view',\n",
    " 'bedrooms condition',\n",
    " 'bedrooms grade',\n",
    " 'bedrooms sqft_above',\n",
    " 'bedrooms sqft_basement',\n",
    " 'bedrooms yr_built',\n",
    " 'bedrooms sqft_living15',\n",
    " 'bedrooms sqft_lot15',\n",
    " 'bedrooms yr_since_build',\n",
    " 'bedrooms is_multi_floor',\n",
    " 'bathrooms^2',\n",
    " 'bathrooms sqft_living',\n",
    " 'bathrooms sqft_lot',\n",
    " 'bathrooms floors',\n",
    " 'bathrooms view',\n",
    " 'bathrooms condition',\n",
    " 'bathrooms grade',\n",
    " 'bathrooms sqft_above',\n",
    " 'bathrooms sqft_basement',\n",
    " 'bathrooms yr_built',\n",
    " 'bathrooms sqft_living15',\n",
    " 'bathrooms sqft_lot15',\n",
    " 'bathrooms month_sold',\n",
    " 'bathrooms yr_since_build',\n",
    " 'bathrooms is_multi_floor',\n",
    " 'bathrooms has_basement',\n",
    " 'sqft_living^2',\n",
    " 'sqft_living sqft_lot',\n",
    " 'sqft_living floors',\n",
    " 'sqft_living view',\n",
    " 'sqft_living condition',\n",
    " 'sqft_living grade',\n",
    " 'sqft_living sqft_above',\n",
    " 'sqft_living sqft_basement',\n",
    " 'sqft_living yr_built',\n",
    " 'sqft_living sqft_living15',\n",
    " 'sqft_living sqft_lot15',\n",
    " 'sqft_living month_sold',\n",
    " 'sqft_living yr_since_build',\n",
    " 'sqft_living is_multi_floor',\n",
    " 'sqft_living has_basement',\n",
    " 'sqft_lot floors',\n",
    " 'sqft_lot grade',\n",
    " 'sqft_lot sqft_above',\n",
    " 'sqft_lot yr_built',\n",
    " 'sqft_lot sqft_living15',\n",
    " 'sqft_lot sqft_lot15',\n",
    " 'sqft_lot is_multi_floor',\n",
    " 'floors^2',\n",
    " 'floors view',\n",
    " 'floors condition',\n",
    " 'floors grade',\n",
    " 'floors sqft_above',\n",
    " 'floors sqft_basement',\n",
    " 'floors yr_built',\n",
    " 'floors sqft_living15',\n",
    " 'floors sqft_lot15',\n",
    " 'floors yr_since_build',\n",
    " 'floors is_multi_floor',\n",
    " 'floors has_basement',\n",
    " 'view^2',\n",
    " 'view grade',\n",
    " 'view sqft_above',\n",
    " 'view sqft_living15',\n",
    " 'view sqft_lot15',\n",
    " 'condition grade',\n",
    " 'condition sqft_above',\n",
    " 'condition sqft_basement',\n",
    " 'condition yr_built',\n",
    " 'condition sqft_living15',\n",
    " 'condition sqft_lot15',\n",
    " 'condition yr_since_build',\n",
    " 'condition is_multi_floor',\n",
    " 'grade^2',\n",
    " 'grade sqft_above',\n",
    " 'grade sqft_basement',\n",
    " 'grade yr_built',\n",
    " 'grade sqft_living15',\n",
    " 'grade sqft_lot15',\n",
    " 'grade month_sold',\n",
    " 'grade yr_since_build',\n",
    " 'grade is_multi_floor',\n",
    " 'grade has_basement',\n",
    " 'sqft_above^2',\n",
    " 'sqft_above sqft_basement',\n",
    " 'sqft_above yr_built',\n",
    " 'sqft_above sqft_living15',\n",
    " 'sqft_above sqft_lot15',\n",
    " 'sqft_above month_sold',\n",
    " 'sqft_above yr_since_build',\n",
    " 'sqft_above is_multi_floor',\n",
    " 'sqft_above has_basement',\n",
    " 'sqft_basement^2',\n",
    " 'sqft_basement yr_built',\n",
    " 'sqft_basement sqft_living15',\n",
    " 'sqft_basement is_multi_floor',\n",
    " 'sqft_basement has_basement',\n",
    " 'yr_built^2',\n",
    " 'yr_built sqft_living15',\n",
    " 'yr_built sqft_lot15',\n",
    " 'yr_built yr_since_build',\n",
    " 'yr_built is_multi_floor',\n",
    " 'sqft_living15^2',\n",
    " 'sqft_living15 sqft_lot15',\n",
    " 'sqft_living15 month_sold',\n",
    " 'sqft_living15 yr_since_build',\n",
    " 'sqft_living15 is_multi_floor',\n",
    " 'sqft_living15 has_basement',\n",
    " 'sqft_lot15^2',\n",
    " 'sqft_lot15 is_multi_floor',\n",
    " 'sqft_lot15 has_basement',\n",
    " 'yr_since_build^2',\n",
    " 'yr_since_build is_multi_floor',\n",
    " 'is_multi_floor^2']"
   ]
  },
  {
   "cell_type": "code",
   "execution_count": 30,
   "metadata": {},
   "outputs": [],
   "source": [
    "#df = df_poly2"
   ]
  },
  {
   "cell_type": "code",
   "execution_count": 34,
   "metadata": {},
   "outputs": [],
   "source": [
    "df = df_poly2[selected_features]"
   ]
  },
  {
   "cell_type": "code",
   "execution_count": 35,
   "metadata": {},
   "outputs": [],
   "source": [
    "transformed_holdout = pd.DataFrame(data=final_scaler.transform(df),columns=df.columns)"
   ]
  },
  {
   "cell_type": "code",
   "execution_count": 33,
   "metadata": {},
   "outputs": [],
   "source": [
    "#transformed_holdout = transformed_holdout[selected_features]"
   ]
  },
  {
   "cell_type": "markdown",
   "metadata": {},
   "source": [
    "## Scaling"
   ]
  },
  {
   "cell_type": "code",
   "execution_count": 36,
   "metadata": {
    "scrolled": false
   },
   "outputs": [
    {
     "data": {
      "text/plain": [
       "(4323, 131)"
      ]
     },
     "execution_count": 36,
     "metadata": {},
     "output_type": "execute_result"
    }
   ],
   "source": [
    "df.shape"
   ]
  },
  {
   "cell_type": "code",
   "execution_count": 37,
   "metadata": {},
   "outputs": [],
   "source": [
    "\n",
    "transformed_holdout = pd.DataFrame(data=final_scaler.transform(df),columns=df.columns)\n"
   ]
  },
  {
   "cell_type": "markdown",
   "metadata": {},
   "source": [
    "## Step 3: Predict the holdout set"
   ]
  },
  {
   "cell_type": "code",
   "execution_count": 38,
   "metadata": {},
   "outputs": [],
   "source": [
    "final_answers = final_model.predict(transformed_holdout)"
   ]
  },
  {
   "cell_type": "code",
   "execution_count": 39,
   "metadata": {},
   "outputs": [],
   "source": [
    "final_answers = pd.DataFrame(final_answers)"
   ]
  },
  {
   "cell_type": "code",
   "execution_count": 40,
   "metadata": {},
   "outputs": [
    {
     "data": {
      "text/html": [
       "<div>\n",
       "<style scoped>\n",
       "    .dataframe tbody tr th:only-of-type {\n",
       "        vertical-align: middle;\n",
       "    }\n",
       "\n",
       "    .dataframe tbody tr th {\n",
       "        vertical-align: top;\n",
       "    }\n",
       "\n",
       "    .dataframe thead th {\n",
       "        text-align: right;\n",
       "    }\n",
       "</style>\n",
       "<table border=\"1\" class=\"dataframe\">\n",
       "  <thead>\n",
       "    <tr style=\"text-align: right;\">\n",
       "      <th></th>\n",
       "      <th>0</th>\n",
       "    </tr>\n",
       "  </thead>\n",
       "  <tbody>\n",
       "    <tr>\n",
       "      <th>0</th>\n",
       "      <td>2.002938e+22</td>\n",
       "    </tr>\n",
       "    <tr>\n",
       "      <th>1</th>\n",
       "      <td>2.002938e+22</td>\n",
       "    </tr>\n",
       "    <tr>\n",
       "      <th>2</th>\n",
       "      <td>6.176219e+21</td>\n",
       "    </tr>\n",
       "    <tr>\n",
       "      <th>3</th>\n",
       "      <td>4.235072e+21</td>\n",
       "    </tr>\n",
       "    <tr>\n",
       "      <th>4</th>\n",
       "      <td>6.627107e+21</td>\n",
       "    </tr>\n",
       "  </tbody>\n",
       "</table>\n",
       "</div>"
      ],
      "text/plain": [
       "              0\n",
       "0  2.002938e+22\n",
       "1  2.002938e+22\n",
       "2  6.176219e+21\n",
       "3  4.235072e+21\n",
       "4  6.627107e+21"
      ]
     },
     "execution_count": 40,
     "metadata": {},
     "output_type": "execute_result"
    }
   ],
   "source": [
    "final_answers.head()"
   ]
  },
  {
   "cell_type": "markdown",
   "metadata": {},
   "source": [
    "## Step 4: Export your predictions"
   ]
  },
  {
   "cell_type": "code",
   "execution_count": 41,
   "metadata": {},
   "outputs": [],
   "source": [
    "# final_answers.to_csv('housing_preds_your_name.csv')\n",
    "final_answers.to_csv('housing_preds_justin_fernandez.csv')"
   ]
  },
  {
   "cell_type": "code",
   "execution_count": null,
   "metadata": {},
   "outputs": [],
   "source": []
  }
 ],
 "metadata": {
  "kernelspec": {
   "display_name": "Python 3",
   "language": "python",
   "name": "python3"
  },
  "language_info": {
   "codemirror_mode": {
    "name": "ipython",
    "version": 3
   },
   "file_extension": ".py",
   "mimetype": "text/x-python",
   "name": "python",
   "nbconvert_exporter": "python",
   "pygments_lexer": "ipython3",
   "version": "3.6.9"
  }
 },
 "nbformat": 4,
 "nbformat_minor": 2
}
