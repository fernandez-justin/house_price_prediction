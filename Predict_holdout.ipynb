{
 "cells": [
  {
   "cell_type": "code",
   "execution_count": 1,
   "metadata": {},
   "outputs": [],
   "source": [
    "import pandas as pd\n",
    "import pickle\n",
    "import numpy as np\n",
    "from sklearn import metrics\n",
    "from sklearn.preprocessing import PolynomialFeatures\n",
    "from sklearn.preprocessing import StandardScaler\n",
    "from sklearn.linear_model import LinearRegression\n",
    "\n",
    "pd.set_option('display.max_columns', 300)"
   ]
  },
  {
   "cell_type": "markdown",
   "metadata": {},
   "source": [
    "## Step 1: Read in hold out data, scalers, and best model"
   ]
  },
  {
   "cell_type": "code",
   "execution_count": 2,
   "metadata": {},
   "outputs": [],
   "source": [
    "df = pd.read_csv('kc_house_data_test_features.csv', index_col=0)"
   ]
  },
  {
   "cell_type": "code",
   "execution_count": 3,
   "metadata": {},
   "outputs": [],
   "source": [
    "#final_scaler = pickle.load(open('scaler.pickle','rb'))\n",
    "final_model = pickle.load(open('model.pickle','rb'))"
   ]
  },
  {
   "cell_type": "markdown",
   "metadata": {},
   "source": [
    "## Step 2: Feature Engineering for holdout set"
   ]
  },
  {
   "cell_type": "markdown",
   "metadata": {},
   "source": [
    "Remember we have to perform the same transformations on our holdout data (feature engineering, extreme values, and scaling) that we performed on the original data."
   ]
  },
  {
   "cell_type": "markdown",
   "metadata": {},
   "source": [
    "### Generating Features"
   ]
  },
  {
   "cell_type": "code",
   "execution_count": 4,
   "metadata": {},
   "outputs": [],
   "source": [
    "# FEATURE: MONTH SOLD\n",
    "# converting date to a real datetime\n",
    "df.date = pd.to_datetime(df['date'])\n",
    "# extracting just the month\n",
    "df['month_sold'] = df.date.dt.month\n",
    "\n",
    "# FEATURE: YEAR SINCE BUILD/RENO\n",
    "# using np.select to find the years since it was built or renovated\n",
    "# if it was renovated\n",
    "conditions = [\n",
    "    df['yr_renovated'] != 0,\n",
    "]\n",
    "# set the years since build to 2020 - that year to get the # of years\n",
    "# the data stops at 2015 but all of these will be changed so the time since does not matter\n",
    "choices = [\n",
    "    2020-df['yr_renovated']\n",
    "]\n",
    "# if not renovated defaults to the year it was built\n",
    "df['yr_since_build'] = np.select(conditions,choices,default=(2020-df['yr_built']))\n",
    "\n",
    "# FEATURE: IS MULTIPLE FLOORS\n",
    "# using lambda to see if floors is greater than 1\n",
    "df['is_multi_floor'] = df['floors'].apply(lambda x: 1 if x > 1 else 0)\n",
    "\n",
    "# FEATURE: HAS BASEMENT\n",
    "# using lambda to see if there is a square footage for the beasement\n",
    "df['has_basement'] = df['sqft_basement'].apply(lambda x: 1 if x>0 else 0)"
   ]
  },
  {
   "cell_type": "code",
   "execution_count": 5,
   "metadata": {},
   "outputs": [],
   "source": [
    "features = [\n",
    "    'bedrooms',\n",
    "    'bathrooms',\n",
    "    'sqft_living',\n",
    "    'sqft_lot',\n",
    "    'floors',\n",
    "    'waterfront',\n",
    "    'view',\n",
    "    'condition',\n",
    "    'grade',\n",
    "    'sqft_above',\n",
    "    'sqft_basement',\n",
    "    'yr_built',\n",
    "    'yr_renovated',\n",
    "    'sqft_living15',\n",
    "    'sqft_lot15',\n",
    "    'month_sold',\n",
    "    'yr_since_build',\n",
    "    'is_multi_floor',\n",
    "    'has_basement'\n",
    "]\n",
    "df_features = df[features]"
   ]
  },
  {
   "cell_type": "markdown",
   "metadata": {},
   "source": [
    "## Generating Polynomials"
   ]
  },
  {
   "cell_type": "code",
   "execution_count": 6,
   "metadata": {},
   "outputs": [],
   "source": [
    "# instantiating the object\n",
    "poly2 = PolynomialFeatures(degree=2, include_bias=False)\n",
    "# transforming my features\n",
    "poly2_data = poly2.fit_transform(df_features)\n",
    "# creating the new data frame\n",
    "poly2_cols = poly2.get_feature_names(df_features.columns)\n",
    "df_poly2 = pd.DataFrame(poly2_data,columns = poly2_cols)"
   ]
  },
  {
   "cell_type": "markdown",
   "metadata": {},
   "source": [
    "## Feature Selection"
   ]
  },
  {
   "cell_type": "code",
   "execution_count": 7,
   "metadata": {},
   "outputs": [],
   "source": [
    "selected_features = ['bedrooms',\n",
    " 'bathrooms',\n",
    " 'sqft_living',\n",
    " 'sqft_lot',\n",
    " 'floors',\n",
    " 'waterfront',\n",
    " 'view',\n",
    " 'condition',\n",
    " 'grade',\n",
    " 'sqft_above',\n",
    " 'sqft_basement',\n",
    " 'yr_built',\n",
    " 'yr_renovated',\n",
    " 'sqft_living15',\n",
    " 'sqft_lot15',\n",
    " 'month_sold',\n",
    " 'yr_since_build',\n",
    " 'is_multi_floor',\n",
    " 'has_basement',\n",
    " 'bedrooms^2',\n",
    " 'bedrooms bathrooms',\n",
    " 'bedrooms sqft_living',\n",
    " 'bedrooms sqft_lot',\n",
    " 'bedrooms floors',\n",
    " 'bedrooms waterfront',\n",
    " 'bedrooms view',\n",
    " 'bedrooms condition',\n",
    " 'bedrooms grade',\n",
    " 'bedrooms sqft_above',\n",
    " 'bedrooms sqft_basement',\n",
    " 'bedrooms yr_built',\n",
    " 'bedrooms yr_renovated',\n",
    " 'bedrooms sqft_living15',\n",
    " 'bedrooms sqft_lot15',\n",
    " 'bedrooms month_sold',\n",
    " 'bedrooms yr_since_build',\n",
    " 'bedrooms is_multi_floor',\n",
    " 'bedrooms has_basement',\n",
    " 'bathrooms^2',\n",
    " 'bathrooms sqft_living',\n",
    " 'bathrooms sqft_lot',\n",
    " 'bathrooms floors',\n",
    " 'bathrooms waterfront',\n",
    " 'bathrooms view',\n",
    " 'bathrooms condition',\n",
    " 'bathrooms grade',\n",
    " 'bathrooms sqft_above',\n",
    " 'bathrooms sqft_basement',\n",
    " 'bathrooms yr_built',\n",
    " 'bathrooms yr_renovated',\n",
    " 'bathrooms sqft_living15',\n",
    " 'bathrooms sqft_lot15',\n",
    " 'bathrooms month_sold',\n",
    " 'bathrooms yr_since_build',\n",
    " 'bathrooms is_multi_floor',\n",
    " 'bathrooms has_basement',\n",
    " 'sqft_living^2',\n",
    " 'sqft_living sqft_lot',\n",
    " 'sqft_living floors',\n",
    " 'sqft_living waterfront',\n",
    " 'sqft_living view',\n",
    " 'sqft_living condition',\n",
    " 'sqft_living grade',\n",
    " 'sqft_living sqft_above',\n",
    " 'sqft_living sqft_basement',\n",
    " 'sqft_living yr_built',\n",
    " 'sqft_living yr_renovated',\n",
    " 'sqft_living sqft_living15',\n",
    " 'sqft_living sqft_lot15',\n",
    " 'sqft_living month_sold',\n",
    " 'sqft_living yr_since_build',\n",
    " 'sqft_living is_multi_floor',\n",
    " 'sqft_living has_basement',\n",
    " 'sqft_lot floors',\n",
    " 'sqft_lot waterfront',\n",
    " 'sqft_lot view',\n",
    " 'sqft_lot condition',\n",
    " 'sqft_lot grade',\n",
    " 'sqft_lot sqft_above',\n",
    " 'sqft_lot sqft_basement',\n",
    " 'sqft_lot yr_built',\n",
    " 'sqft_lot month_sold',\n",
    " 'sqft_lot is_multi_floor',\n",
    " 'sqft_lot has_basement',\n",
    " 'floors^2',\n",
    " 'floors waterfront',\n",
    " 'floors view',\n",
    " 'floors condition',\n",
    " 'floors grade',\n",
    " 'floors sqft_above',\n",
    " 'floors sqft_basement',\n",
    " 'floors yr_built',\n",
    " 'floors yr_renovated',\n",
    " 'floors sqft_living15',\n",
    " 'floors sqft_lot15',\n",
    " 'floors month_sold',\n",
    " 'floors yr_since_build',\n",
    " 'floors is_multi_floor',\n",
    " 'floors has_basement',\n",
    " 'waterfront^2',\n",
    " 'waterfront view',\n",
    " 'waterfront condition',\n",
    " 'waterfront grade',\n",
    " 'waterfront sqft_above',\n",
    " 'waterfront sqft_basement',\n",
    " 'waterfront yr_built',\n",
    " 'waterfront yr_renovated',\n",
    " 'waterfront sqft_living15',\n",
    " 'waterfront sqft_lot15',\n",
    " 'waterfront month_sold',\n",
    " 'waterfront yr_since_build',\n",
    " 'waterfront is_multi_floor',\n",
    " 'waterfront has_basement',\n",
    " 'view^2',\n",
    " 'view condition',\n",
    " 'view grade',\n",
    " 'view sqft_above',\n",
    " 'view sqft_basement',\n",
    " 'view yr_built',\n",
    " 'view yr_renovated',\n",
    " 'view sqft_living15',\n",
    " 'view sqft_lot15',\n",
    " 'view month_sold',\n",
    " 'view yr_since_build',\n",
    " 'view is_multi_floor',\n",
    " 'view has_basement',\n",
    " 'condition^2',\n",
    " 'condition grade',\n",
    " 'condition sqft_above',\n",
    " 'condition sqft_basement',\n",
    " 'condition yr_built',\n",
    " 'condition yr_renovated',\n",
    " 'condition sqft_living15',\n",
    " 'condition sqft_lot15',\n",
    " 'condition month_sold',\n",
    " 'condition yr_since_build',\n",
    " 'condition is_multi_floor',\n",
    " 'condition has_basement',\n",
    " 'grade^2',\n",
    " 'grade sqft_above',\n",
    " 'grade sqft_basement',\n",
    " 'grade yr_built',\n",
    " 'grade yr_renovated',\n",
    " 'grade sqft_living15',\n",
    " 'grade sqft_lot15',\n",
    " 'grade month_sold',\n",
    " 'grade yr_since_build',\n",
    " 'grade is_multi_floor',\n",
    " 'grade has_basement',\n",
    " 'sqft_above^2',\n",
    " 'sqft_above sqft_basement',\n",
    " 'sqft_above yr_built',\n",
    " 'sqft_above yr_renovated',\n",
    " 'sqft_above sqft_living15',\n",
    " 'sqft_above sqft_lot15',\n",
    " 'sqft_above month_sold',\n",
    " 'sqft_above yr_since_build',\n",
    " 'sqft_above is_multi_floor',\n",
    " 'sqft_above has_basement',\n",
    " 'sqft_basement^2',\n",
    " 'sqft_basement yr_built',\n",
    " 'sqft_basement sqft_living15',\n",
    " 'sqft_basement sqft_lot15',\n",
    " 'sqft_basement month_sold',\n",
    " 'sqft_basement yr_since_build',\n",
    " 'sqft_basement is_multi_floor',\n",
    " 'sqft_basement has_basement',\n",
    " 'yr_built^2',\n",
    " 'yr_built yr_renovated',\n",
    " 'yr_built sqft_living15',\n",
    " 'yr_built sqft_lot15',\n",
    " 'yr_built month_sold',\n",
    " 'yr_built yr_since_build',\n",
    " 'yr_built is_multi_floor',\n",
    " 'yr_built has_basement',\n",
    " 'yr_renovated^2',\n",
    " 'yr_renovated sqft_living15',\n",
    " 'yr_renovated month_sold',\n",
    " 'yr_renovated yr_since_build',\n",
    " 'yr_renovated is_multi_floor',\n",
    " 'yr_renovated has_basement',\n",
    " 'sqft_living15^2',\n",
    " 'sqft_living15 month_sold',\n",
    " 'sqft_living15 yr_since_build',\n",
    " 'sqft_living15 is_multi_floor',\n",
    " 'sqft_living15 has_basement',\n",
    " 'sqft_lot15 month_sold',\n",
    " 'sqft_lot15 yr_since_build',\n",
    " 'sqft_lot15 is_multi_floor',\n",
    " 'sqft_lot15 has_basement',\n",
    " 'month_sold^2',\n",
    " 'month_sold yr_since_build',\n",
    " 'month_sold is_multi_floor',\n",
    " 'month_sold has_basement',\n",
    " 'yr_since_build^2',\n",
    " 'yr_since_build is_multi_floor',\n",
    " 'yr_since_build has_basement',\n",
    " 'is_multi_floor^2',\n",
    " 'is_multi_floor has_basement',\n",
    " 'has_basement^2']"
   ]
  },
  {
   "cell_type": "code",
   "execution_count": 19,
   "metadata": {},
   "outputs": [],
   "source": [
    "holdout = df_poly2[selected_features]"
   ]
  },
  {
   "cell_type": "markdown",
   "metadata": {},
   "source": [
    "## Scaling"
   ]
  },
  {
   "cell_type": "markdown",
   "metadata": {},
   "source": [
    "Scaling was giving me a lot of problems so I ended up cutting it out as I was not able to produce results."
   ]
  },
  {
   "cell_type": "markdown",
   "metadata": {},
   "source": [
    "## Step 3: Predict the holdout set"
   ]
  },
  {
   "cell_type": "code",
   "execution_count": 20,
   "metadata": {},
   "outputs": [],
   "source": [
    "final_answers = final_model.predict(holdout)"
   ]
  },
  {
   "cell_type": "code",
   "execution_count": 21,
   "metadata": {},
   "outputs": [],
   "source": [
    "final_answers = pd.DataFrame(final_answers)"
   ]
  },
  {
   "cell_type": "code",
   "execution_count": 22,
   "metadata": {},
   "outputs": [
    {
     "data": {
      "text/html": [
       "<div>\n",
       "<style scoped>\n",
       "    .dataframe tbody tr th:only-of-type {\n",
       "        vertical-align: middle;\n",
       "    }\n",
       "\n",
       "    .dataframe tbody tr th {\n",
       "        vertical-align: top;\n",
       "    }\n",
       "\n",
       "    .dataframe thead th {\n",
       "        text-align: right;\n",
       "    }\n",
       "</style>\n",
       "<table border=\"1\" class=\"dataframe\">\n",
       "  <thead>\n",
       "    <tr style=\"text-align: right;\">\n",
       "      <th></th>\n",
       "      <th>0</th>\n",
       "    </tr>\n",
       "  </thead>\n",
       "  <tbody>\n",
       "    <tr>\n",
       "      <th>0</th>\n",
       "      <td>547595.363639</td>\n",
       "    </tr>\n",
       "    <tr>\n",
       "      <th>1</th>\n",
       "      <td>556047.291886</td>\n",
       "    </tr>\n",
       "    <tr>\n",
       "      <th>2</th>\n",
       "      <td>428579.483360</td>\n",
       "    </tr>\n",
       "    <tr>\n",
       "      <th>3</th>\n",
       "      <td>359072.092418</td>\n",
       "    </tr>\n",
       "    <tr>\n",
       "      <th>4</th>\n",
       "      <td>524361.547748</td>\n",
       "    </tr>\n",
       "  </tbody>\n",
       "</table>\n",
       "</div>"
      ],
      "text/plain": [
       "               0\n",
       "0  547595.363639\n",
       "1  556047.291886\n",
       "2  428579.483360\n",
       "3  359072.092418\n",
       "4  524361.547748"
      ]
     },
     "execution_count": 22,
     "metadata": {},
     "output_type": "execute_result"
    }
   ],
   "source": [
    "final_answers.head()"
   ]
  },
  {
   "cell_type": "markdown",
   "metadata": {},
   "source": [
    "## Step 4: Export your predictions"
   ]
  },
  {
   "cell_type": "code",
   "execution_count": 23,
   "metadata": {},
   "outputs": [],
   "source": [
    "# final_answers.to_csv('housing_preds_your_name.csv')\n",
    "final_answers.to_csv('housing_preds_justin_fernandez.csv')"
   ]
  },
  {
   "cell_type": "code",
   "execution_count": null,
   "metadata": {},
   "outputs": [],
   "source": []
  }
 ],
 "metadata": {
  "kernelspec": {
   "display_name": "Python 3",
   "language": "python",
   "name": "python3"
  },
  "language_info": {
   "codemirror_mode": {
    "name": "ipython",
    "version": 3
   },
   "file_extension": ".py",
   "mimetype": "text/x-python",
   "name": "python",
   "nbconvert_exporter": "python",
   "pygments_lexer": "ipython3",
   "version": "3.6.9"
  }
 },
 "nbformat": 4,
 "nbformat_minor": 2
}
